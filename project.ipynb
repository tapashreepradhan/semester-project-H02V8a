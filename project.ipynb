{
 "cells": [
  {
   "cell_type": "markdown",
   "id": "984cf637-1901-45c1-b747-98a08d601e91",
   "metadata": {
    "id": "984cf637-1901-45c1-b747-98a08d601e91"
   },
   "source": [
    "# Parameter Optimisation for Three-Dimensional Printers’ Print Quality"
   ]
  },
  {
   "cell_type": "markdown",
   "id": "7581b64c-1edb-4594-9e64-62a5909175e5",
   "metadata": {
    "colab": {
     "base_uri": "https://localhost:8080/"
    },
    "id": "GsIbvynlGOyB",
    "outputId": "a3964078-31d4-452a-cffe-56be21f7c14f"
   },
   "source": [
    "Import the github repo:\n",
    "`git clone https://github.com/tapashreepradhan/semester-project-H02V8a.git`"
   ]
  },
  {
   "cell_type": "code",
   "execution_count": 70,
   "id": "d93e9c8c-af5e-413a-893b-15f1606c0bfd",
   "metadata": {},
   "outputs": [],
   "source": [
    "import warnings\n",
    "warnings.filterwarnings('ignore')"
   ]
  },
  {
   "cell_type": "code",
   "execution_count": 71,
   "id": "ey8KMYzoGndA",
   "metadata": {
    "id": "ey8KMYzoGndA"
   },
   "outputs": [],
   "source": [
    "# importing libraries\n",
    "import numpy as np\n",
    "import pandas as pd\n",
    "from matplotlib import pyplot as plt\n",
    "from scipy import stats as st\n",
    "import seaborn as sns"
   ]
  },
  {
   "cell_type": "markdown",
   "id": "UQAph2cZH4u5",
   "metadata": {
    "id": "UQAph2cZH4u5",
    "jp-MarkdownHeadingCollapsed": true
   },
   "source": [
    "## 1. Data Loading and Distribution Plots of the Dependent Variables:\n",
    "\n",
    "Preliminary data visualization of the experimental values via normal distribution curves."
   ]
  },
  {
   "cell_type": "code",
   "execution_count": 3,
   "id": "yZ35hW_pIOCk",
   "metadata": {
    "id": "yZ35hW_pIOCk"
   },
   "outputs": [],
   "source": [
    "df = pd.read_csv(\"3d-printer-dataset-two-level.csv\")"
   ]
  },
  {
   "cell_type": "code",
   "execution_count": 4,
   "id": "sf5fddJXJfIm",
   "metadata": {
    "colab": {
     "base_uri": "https://localhost:8080/"
    },
    "id": "sf5fddJXJfIm",
    "outputId": "f545a5d5-9806-4e03-a4ed-762619292309"
   },
   "outputs": [
    {
     "name": "stdout",
     "output_type": "stream",
     "text": [
      "<class 'pandas.core.frame.DataFrame'>\n",
      "RangeIndex: 48 entries, 0 to 47\n",
      "Data columns (total 7 columns):\n",
      " #   Column                   Non-Null Count  Dtype  \n",
      "---  ------                   --------------  -----  \n",
      " 0   layer_height (A)         48 non-null     float64\n",
      " 1   nozzle temperature (B)   48 non-null     int64  \n",
      " 2   bed_temperature (C)      48 non-null     int64  \n",
      " 3   fan_speed (D)            48 non-null     int64  \n",
      " 4   roughness                48 non-null     int64  \n",
      " 5   tension_strength         48 non-null     float64\n",
      " 6   elongation               48 non-null     float64\n",
      "dtypes: float64(3), int64(4)\n",
      "memory usage: 2.8 KB\n"
     ]
    }
   ],
   "source": [
    "df.info()"
   ]
  },
  {
   "cell_type": "code",
   "execution_count": 5,
   "id": "pIDU0aUuJnaq",
   "metadata": {
    "colab": {
     "base_uri": "https://localhost:8080/"
    },
    "id": "pIDU0aUuJnaq",
    "outputId": "10c6e90e-5f7a-4b8d-ea14-af1ec61ea1ba"
   },
   "outputs": [
    {
     "name": "stdout",
     "output_type": "stream",
     "text": [
      "<class 'pandas.core.frame.DataFrame'>\n",
      "RangeIndex: 48 entries, 0 to 47\n",
      "Data columns (total 4 columns):\n",
      " #   Column                   Non-Null Count  Dtype  \n",
      "---  ------                   --------------  -----  \n",
      " 0   layer_height (A)         48 non-null     float64\n",
      " 1   nozzle temperature (B)   48 non-null     int64  \n",
      " 2   bed_temperature (C)      48 non-null     int64  \n",
      " 3   fan_speed (D)            48 non-null     int64  \n",
      "dtypes: float64(1), int64(3)\n",
      "memory usage: 1.6 KB\n"
     ]
    }
   ],
   "source": [
    "# independent variables\n",
    "x_df = df.iloc[:, [0, 1, 2, 3]]\n",
    "x_df.info()"
   ]
  },
  {
   "cell_type": "code",
   "execution_count": 6,
   "id": "BhBL9wVzLZDa",
   "metadata": {
    "colab": {
     "base_uri": "https://localhost:8080/"
    },
    "id": "BhBL9wVzLZDa",
    "outputId": "3e2f6609-5847-4c3f-acb1-c38a8cb613f0"
   },
   "outputs": [
    {
     "name": "stdout",
     "output_type": "stream",
     "text": [
      "<class 'pandas.core.frame.DataFrame'>\n",
      "RangeIndex: 48 entries, 0 to 47\n",
      "Data columns (total 3 columns):\n",
      " #   Column            Non-Null Count  Dtype  \n",
      "---  ------            --------------  -----  \n",
      " 0   roughness         48 non-null     int64  \n",
      " 1   tension_strength  48 non-null     float64\n",
      " 2   elongation        48 non-null     float64\n",
      "dtypes: float64(2), int64(1)\n",
      "memory usage: 1.3 KB\n"
     ]
    }
   ],
   "source": [
    "# dependent variables\n",
    "y_df = df.iloc[:, [4, 5, 6]]\n",
    "y_df.info()"
   ]
  },
  {
   "cell_type": "code",
   "execution_count": 18,
   "id": "04fb7-o-Nxxd",
   "metadata": {
    "colab": {
     "base_uri": "https://localhost:8080/",
     "height": 489
    },
    "id": "04fb7-o-Nxxd",
    "outputId": "bd99fa3b-f243-4d3a-b1df-ab17360646cb"
   },
   "outputs": [
    {
     "data": {
      "image/png": "[encoded data removed]",
      "text/plain": [
       "<Figure size 640x480 with 1 Axes>"
      ]
     },
     "metadata": {},
     "output_type": "display_data"
    },
    {
     "name": "stdout",
     "output_type": "stream",
     "text": [
      "The data for Roughness does not appear to be normally distributed (p-value=0.0000)\n"
     ]
    },
    {
     "data": {
      "text/plain": [
       "<Figure size 640x480 with 0 Axes>"
      ]
     },
     "metadata": {},
     "output_type": "display_data"
    }
   ],
   "source": [
    "# Roughness Distribution\n",
    "\n",
    "sns.histplot(y_df['roughness'], kde=True)\n",
    "plt.title(f'Distribution of Roughness (Micrometers)')\n",
    "plt.show()\n",
    "plt.savefig('./distribution-plots/roughness-distribution.png')\n",
    "\n",
    "from scipy.stats import shapiro\n",
    "# Perform the Shapiro-Wilk test\n",
    "stat, p_value = shapiro(y_df['roughness'])\n",
    "# Check the p-value\n",
    "alpha = 0.05\n",
    "if p_value > alpha:\n",
    "    print(f'The data for Roughness appears to be normally distributed (p-value={p_value:.4f})')\n",
    "else:\n",
    "    print(f'The data for Roughness does not appear to be normally distributed (p-value={p_value:.4f})')"
   ]
  },
  {
   "cell_type": "code",
   "execution_count": 19,
   "id": "ME0gWAhEPe7q",
   "metadata": {
    "colab": {
     "base_uri": "https://localhost:8080/",
     "height": 507
    },
    "id": "ME0gWAhEPe7q",
    "outputId": "7dd8ede0-9538-467c-a551-749367c41516"
   },
   "outputs": [
    {
     "data": {
      "image/png": "[encoded data removed]",
      "text/plain": [
       "<Figure size 640x480 with 1 Axes>"
      ]
     },
     "metadata": {},
     "output_type": "display_data"
    },
    {
     "name": "stdout",
     "output_type": "stream",
     "text": [
      "The data for Tensile Strength does not appear to be normally distributed (p-value=0.0007)\n"
     ]
    },
    {
     "data": {
      "text/plain": [
       "<Figure size 640x480 with 0 Axes>"
      ]
     },
     "metadata": {},
     "output_type": "display_data"
    }
   ],
   "source": [
    "# Tensile Strength Distribution\n",
    "\n",
    "sns.histplot(y_df['tension_strength'], kde=True)\n",
    "plt.title(f'Distribution of Tensile Strength (MPa)')\n",
    "plt.show()\n",
    "\n",
    "plt.savefig('./distribution-plots/tensile-distribution.png')\n",
    "\n",
    "from scipy.stats import shapiro\n",
    "\n",
    "# Perform the Shapiro-Wilk test\n",
    "stat, p_value = shapiro(y_df['tension_strength'])\n",
    "\n",
    "# Check the p-value\n",
    "alpha = 0.05\n",
    "if p_value > alpha:\n",
    "    print(f'The data for Tensile Strength appears to be normally distributed (p-value={p_value:.4f})')\n",
    "else:\n",
    "    print(f'The data for Tensile Strength does not appear to be normally distributed (p-value={p_value:.4f})')"
   ]
  },
  {
   "cell_type": "code",
   "execution_count": 20,
   "id": "nm2LfHFxQ_85",
   "metadata": {
    "colab": {
     "base_uri": "https://localhost:8080/",
     "height": 507
    },
    "id": "nm2LfHFxQ_85",
    "outputId": "a84c1264-ad22-4807-d158-0e9244718f52"
   },
   "outputs": [
    {
     "data": {
      "image/png": "[encoded data removed]",
      "text/plain": [
       "<Figure size 640x480 with 1 Axes>"
      ]
     },
     "metadata": {},
     "output_type": "display_data"
    },
    {
     "name": "stdout",
     "output_type": "stream",
     "text": [
      "The data for Elongation appears to be normally distributed (p-value=0.1550)\n"
     ]
    },
    {
     "data": {
      "text/plain": [
       "<Figure size 640x480 with 0 Axes>"
      ]
     },
     "metadata": {},
     "output_type": "display_data"
    }
   ],
   "source": [
    "# Elongation Distribution\n",
    "\n",
    "sns.histplot(y_df['elongation'], kde=True)\n",
    "plt.title(f'Elongation(%)')\n",
    "plt.show()\n",
    "plt.savefig('./distribution-plots/elongation-distribution.png')\n",
    "from scipy.stats import shapiro\n",
    "\n",
    "# Perform the Shapiro-Wilk test\n",
    "stat, p_value = shapiro(y_df['elongation'])\n",
    "\n",
    "# Check the p-value\n",
    "alpha = 0.05\n",
    "if p_value > alpha:\n",
    "    print(f'The data for Elongation appears to be normally distributed (p-value={p_value:.4f})')\n",
    "else:\n",
    "    print(f'The data for Elongation does not appear to be normally distributed (p-value={p_value:.4f})')"
   ]
  },
  {
   "cell_type": "code",
   "execution_count": 21,
   "id": "0a1f09f6-432e-485f-9149-5a9addeb1174",
   "metadata": {},
   "outputs": [
    {
     "name": "stdout",
     "output_type": "stream",
     "text": [
      "[main 4590a13] distribution plots\n",
      " 6 files changed, 947 insertions(+), 401 deletions(-)\n",
      " create mode 100644 .ipynb_checkpoints/project-checkpoint.ipynb\n",
      " create mode 100644 .virtual_documents/project.ipynb\n",
      " create mode 100644 distribution-plots/elongation-distribution.png\n",
      " create mode 100644 distribution-plots/roughness-distribution.png\n",
      " create mode 100644 distribution-plots/tensile-distribution.png\n",
      "Enumerating objects: 10, done.\n",
      "Counting objects: 100% (10/10), done.\n",
      "Delta compression using up to 4 threads\n",
      "Compressing objects: 100% (7/7), done.\n",
      "Writing objects: 100% (8/8), 71.34 KiB | 7.93 MiB/s, done.\n",
      "Total 8 (delta 0), reused 0 (delta 0), pack-reused 0\n",
      "To https://github.com/tapashreepradhan/semester-project-H02V8a.git\n",
      "   b06948e..4590a13  main -> main\n"
     ]
    }
   ],
   "source": [
    "!git add -A\n",
    "!git commit -m \"distribution plots\"\n",
    "!git push -f origin"
   ]
  },
  {
   "cell_type": "markdown",
   "id": "02a05afe-c8a8-45aa-a717-78de013674b7",
   "metadata": {},
   "source": [
    "- Note: \n",
    "Even though our response variables do not seem to be normally distributed, With a dataset size of 48 runs, the central limit theorem suggests that the distribution of sample means tends to be normal, even if the underlying data is not normally distributed. As a general guideline, t-tests and ANOVA can be reasonably robust to deviations from normality with moderate to large sample sizes. In this case, a sample size of 48 is often considered sufficiently large for these tests.\n",
    "- t-tests:\n",
    "With 48 observations, t-tests (both independent samples and paired samples) are generally robust, and the assumption of normality becomes less critical.\n",
    "Welch's t-test, which is more robust to unequal variances, can be considered if the variances are not assumed to be equal.\n",
    "- ANOVA:\n",
    "For one-way ANOVA, a sample size of 48 is generally considered acceptable, and the ANOVA F-test is robust to deviations from normality, especially with relatively equal group sizes.\n",
    "Two-way ANOVA may be reasonable with a balanced design and 48 observations."
   ]
  },
  {
   "cell_type": "markdown",
   "id": "5iFC3dv7HNDj",
   "metadata": {
    "id": "5iFC3dv7HNDj",
    "jp-MarkdownHeadingCollapsed": true
   },
   "source": [
    "## 2. Hypothesis Formulation:\n",
    "To determine whether the coefficients and factors are of significance for the model and formulation of Null Hypothesis, $H_0$ and Alternative Hypothesis, $H_1$. - dont know how to do this"
   ]
  },
  {
   "cell_type": "markdown",
   "id": "62fc5161-f5bc-4da5-bf3f-aed912b0b91c",
   "metadata": {},
   "source": [
    "## 3. Elongation Only: Full Factorial"
   ]
  },
  {
   "cell_type": "markdown",
   "id": "3d1d8510-9a86-4922-8edc-d91cb1296634",
   "metadata": {
    "id": "F55GEiHsG_0E",
    "jp-MarkdownHeadingCollapsed": true
   },
   "source": [
    "### 3.1. Computing the estimates of the effects and their standard errors"
   ]
  },
  {
   "cell_type": "markdown",
   "id": "1d0be81c-311c-406f-8f36-6dd07e007b4a",
   "metadata": {},
   "source": [
    "- k (Number of Groups or Combinations): represents the number of unique combinations of the 4 factors at 2 levels each. Since each factor has 2 levels and there are 4 factors, the total number of combinations would be. Therefore, \"k\" = 4\n",
    "\n",
    "- n (Number of Replications or Sample Size): represents the number of replications or observations within each combination or group. In this case, each combination has been replicated 3 times. Therefore, \"n\" is 3"
   ]
  },
  {
   "cell_type": "code",
   "execution_count": 92,
   "id": "8e4ea184-1172-4c9b-a33e-222d40f81bef",
   "metadata": {},
   "outputs": [],
   "source": [
    "# Create a DataFrame with factor levels\n",
    "factor_levels = {\n",
    "    'layer_height (A)': [\"0.05(-)\", \"0.1(+)\"],\n",
    "    'nozzle temperature (B)': [\"220(-)\", \"240(+)\"],\n",
    "    'bed_temperature (C)': [\"60(-)\", \"80(+)\"],\n",
    "    'fan_speed (D)': [\"50(-)\", \"100(+)\"]\n",
    "}\n",
    "\n",
    "# Generate all possible combinations of factor levels (full factorial design)\n",
    "combinations = list(itertools.product(*factor_levels.values()))\n",
    "\n",
    "# Create a DataFrame with the experimental design matrix\n",
    "design_matrix = pd.DataFrame(combinations, columns=factor_levels.keys())"
   ]
  },
  {
   "cell_type": "code",
   "execution_count": 155,
   "id": "eb73b88a-a22b-4b84-8acb-1fedda135c20",
   "metadata": {
    "scrolled": true
   },
   "outputs": [],
   "source": [
    "response_elg = df.iloc[:, [0, 1, 2, 3, 6]]"
   ]
  },
  {
   "cell_type": "code",
   "execution_count": 63,
   "id": "b0cd9cb3-608e-4d67-a196-98d32956196f",
   "metadata": {},
   "outputs": [],
   "source": [
    "! mkdir datasets"
   ]
  },
  {
   "cell_type": "code",
   "execution_count": 64,
   "id": "7ca764f7-0389-4d14-bc94-07b51aca2628",
   "metadata": {},
   "outputs": [],
   "source": [
    "! cd datasets"
   ]
  },
  {
   "cell_type": "code",
   "execution_count": 156,
   "id": "5611ce30-f8c3-4e59-a499-562de243e26c",
   "metadata": {},
   "outputs": [],
   "source": [
    "response_elg.to_csv('./datasets/' + 'elongation.csv', index=False)"
   ]
  },
  {
   "cell_type": "code",
   "execution_count": 157,
   "id": "d963b0e6-eef0-4c31-8b74-736dccf5e66b",
   "metadata": {},
   "outputs": [],
   "source": [
    "# Create a custom grouping column\n",
    "response_elg['Group'] = (response_elg.index // 3) + 1\n",
    "\n",
    "# Sum every three lines using groupby and agg\n",
    "result = response_elg.groupby('Group')['elongation'].agg('sum').reset_index(drop=True)"
   ]
  },
  {
   "cell_type": "code",
   "execution_count": 158,
   "id": "ae86c029-4213-43cb-8cc1-8fd65c962a54",
   "metadata": {},
   "outputs": [
    {
     "name": "stdout",
     "output_type": "stream",
     "text": [
      "   layer_height (A) nozzle temperature (B) bed_temperature (C) fan_speed (D)  \\\n",
      "0           0.05(-)                 220(-)               60(-)         50(-)   \n",
      "1           0.05(-)                 220(-)               60(-)        100(+)   \n",
      "2           0.05(-)                 220(-)               80(+)         50(-)   \n",
      "3           0.05(-)                 220(-)               80(+)        100(+)   \n",
      "4           0.05(-)                 240(+)               60(-)         50(-)   \n",
      "5           0.05(-)                 240(+)               60(-)        100(+)   \n",
      "6           0.05(-)                 240(+)               80(+)         50(-)   \n",
      "7           0.05(-)                 240(+)               80(+)        100(+)   \n",
      "8            0.1(+)                 220(-)               60(-)         50(-)   \n",
      "9            0.1(+)                 220(-)               60(-)        100(+)   \n",
      "10           0.1(+)                 220(-)               80(+)         50(-)   \n",
      "11           0.1(+)                 220(-)               80(+)        100(+)   \n",
      "12           0.1(+)                 240(+)               60(-)         50(-)   \n",
      "13           0.1(+)                 240(+)               60(-)        100(+)   \n",
      "14           0.1(+)                 240(+)               80(+)         50(-)   \n",
      "15           0.1(+)                 240(+)               80(+)        100(+)   \n",
      "\n",
      "    elongation  \n",
      "0         3.70  \n",
      "1         2.60  \n",
      "2         1.80  \n",
      "3         6.40  \n",
      "4         6.70  \n",
      "5         5.20  \n",
      "6         4.10  \n",
      "7         2.80  \n",
      "8         3.40  \n",
      "9         4.90  \n",
      "10        5.50  \n",
      "11        4.30  \n",
      "12        5.50  \n",
      "13        3.66  \n",
      "14        1.70  \n",
      "15        1.30  \n"
     ]
    }
   ],
   "source": [
    "merged_y0 = pd.merge(design_matrix, result, left_index=True, right_index=True, how='inner')\n",
    "print(merged_y0)"
   ]
  },
  {
   "cell_type": "code",
   "execution_count": 487,
   "id": "f747ae9a-6290-458b-a9aa-c2ced01887df",
   "metadata": {},
   "outputs": [],
   "source": [
    "one = result[0]\n",
    "a = result[1]\n",
    "b = result[2]\n",
    "ab = result[3]\n",
    "c = result[4]\n",
    "ac = result[5]\n",
    "bc = result[6]\n",
    "abc = result[7]\n",
    "d = result[8]\n",
    "ad = result[9]\n",
    "bd = result[10]\n",
    "abd = result[11]\n",
    "cd = result[12]\n",
    "acd = result[13]\n",
    "bcd = result[14]\n",
    "abcd = result[15]"
   ]
  },
  {
   "cell_type": "code",
   "execution_count": 488,
   "id": "d57fb09f-7f85-497b-a712-f9ab54159b06",
   "metadata": {},
   "outputs": [],
   "source": [
    "n = 3\n",
    "k = 4\n",
    "N = 1/(2*n)"
   ]
  },
  {
   "cell_type": "code",
   "execution_count": 489,
   "id": "7fbab0bc-975d-499e-956d-381af9b1cc5f",
   "metadata": {},
   "outputs": [],
   "source": [
    "A = (N * (abcd + bcd + acd + cd + abd + bd + ad + d - one - a - b - ab - c - ac - bc - abc))\n",
    "B = (N * (c+ac+bc+abc+cd+acd+bcd+abcd - one - a - b - ab - d - ad - bd - abd))\n",
    "C = (N * (-one -a +b +ab -c -ac +bc +abc -d -ad +bd +abd -cd -acd +bcd +abcd))\n",
    "D = (N * (-one +a -b +ab -c +ac -bc +abc -d +ad -bd +abd -cd +acd -bcd +abcd))\n",
    "AB = (N * (one +a +b +ab -c -ac -bc -abc -d -ad -bd -abd +cd +acd +bcd +abcd))\n",
    "AC = (N * (one +a -b -ab +c +ac -bc -abc -d -ad +bd +abd -cd -acd +bcd +abcd))\n",
    "AD = (N * (one -a +b -ab +c -ac +bc -abc -d +ad -bd +abd -cd +acd -bcd +abcd))\n",
    "BC = (N * (one +a -b -ab -c -ac +bc +abc +d +ad -bd -abd -cd -acd +bcd +abcd))\n",
    "BD = (N * (one -a +b -ab -c +ac -bc +abc +d -ad +bd -abd -cd +acd -bcd +abcd))\n",
    "CD = (N * (one -a -b +ab +c -ac -bc +abc +d -ad -bd +abd +cd -acd -bcd +abcd))\n",
    "ABC = (N * (-one -a +b +ab +c +ac -bc -abc +d +ad -bd -abd -cd -acd +bcd +abcd))\n",
    "ABD = (N * (-one +a -b +ab +c -ac +bc -abc +d -ad +bd -abd -cd +acd -bcd +abcd))\n",
    "ACD = (N * (-one +a +b -ab -c +ac +bc -abc +d -ad -bd +abd +cd -acd -bcd +abcd))\n",
    "BCD = (N * (-one +a +b -ab +c -ac -bc +abc -d +ad +bd -abd +cd -acd -bcd +abcd))\n",
    "ABCD = (N * (one -a -b +ab -c +ac +bc -abc -d +ad +bd -abd +cd -acd -bcd +abcd))"
   ]
  },
  {
   "cell_type": "markdown",
   "id": "3658539c-5a10-4c26-a59a-6b85261a7fac",
   "metadata": {
    "jp-MarkdownHeadingCollapsed": true
   },
   "source": [
    "### 3.2. Coefficient Estimates:"
   ]
  },
  {
   "cell_type": "code",
   "execution_count": 556,
   "id": "74b8e770-e98e-4ee2-afd9-0269ccd7154e",
   "metadata": {},
   "outputs": [
    {
     "data": {
      "text/html": [
       "<div>\n",
       "<style scoped>\n",
       "    .dataframe tbody tr th:only-of-type {\n",
       "        vertical-align: middle;\n",
       "    }\n",
       "\n",
       "    .dataframe tbody tr th {\n",
       "        vertical-align: top;\n",
       "    }\n",
       "\n",
       "    .dataframe thead th {\n",
       "        text-align: right;\n",
       "    }\n",
       "</style>\n",
       "<table border=\"1\" class=\"dataframe\">\n",
       "  <thead>\n",
       "    <tr style=\"text-align: right;\">\n",
       "      <th></th>\n",
       "      <th>coeff_estimate</th>\n",
       "    </tr>\n",
       "  </thead>\n",
       "  <tbody>\n",
       "    <tr>\n",
       "      <th>0</th>\n",
       "      <td>3.972500</td>\n",
       "    </tr>\n",
       "    <tr>\n",
       "      <th>1</th>\n",
       "      <td>-0.126667</td>\n",
       "    </tr>\n",
       "    <tr>\n",
       "      <th>2</th>\n",
       "      <td>-0.068333</td>\n",
       "    </tr>\n",
       "    <tr>\n",
       "      <th>3</th>\n",
       "      <td>-0.323333</td>\n",
       "    </tr>\n",
       "    <tr>\n",
       "      <th>4</th>\n",
       "      <td>-0.051667</td>\n",
       "    </tr>\n",
       "    <tr>\n",
       "      <th>5</th>\n",
       "      <td>-0.426667</td>\n",
       "    </tr>\n",
       "    <tr>\n",
       "      <th>6</th>\n",
       "      <td>-0.065000</td>\n",
       "    </tr>\n",
       "    <tr>\n",
       "      <th>7</th>\n",
       "      <td>-0.110000</td>\n",
       "    </tr>\n",
       "    <tr>\n",
       "      <th>8</th>\n",
       "      <td>-0.606667</td>\n",
       "    </tr>\n",
       "    <tr>\n",
       "      <th>9</th>\n",
       "      <td>-0.368333</td>\n",
       "    </tr>\n",
       "    <tr>\n",
       "      <th>10</th>\n",
       "      <td>0.193333</td>\n",
       "    </tr>\n",
       "    <tr>\n",
       "      <th>11</th>\n",
       "      <td>-0.031667</td>\n",
       "    </tr>\n",
       "    <tr>\n",
       "      <th>12</th>\n",
       "      <td>0.156667</td>\n",
       "    </tr>\n",
       "    <tr>\n",
       "      <th>13</th>\n",
       "      <td>-0.298333</td>\n",
       "    </tr>\n",
       "    <tr>\n",
       "      <th>14</th>\n",
       "      <td>-0.056667</td>\n",
       "    </tr>\n",
       "    <tr>\n",
       "      <th>15</th>\n",
       "      <td>0.401667</td>\n",
       "    </tr>\n",
       "  </tbody>\n",
       "</table>\n",
       "</div>"
      ],
      "text/plain": [
       "    coeff_estimate\n",
       "0         3.972500\n",
       "1        -0.126667\n",
       "2        -0.068333\n",
       "3        -0.323333\n",
       "4        -0.051667\n",
       "5        -0.426667\n",
       "6        -0.065000\n",
       "7        -0.110000\n",
       "8        -0.606667\n",
       "9        -0.368333\n",
       "10        0.193333\n",
       "11       -0.031667\n",
       "12        0.156667\n",
       "13       -0.298333\n",
       "14       -0.056667\n",
       "15        0.401667"
      ]
     },
     "execution_count": 556,
     "metadata": {},
     "output_type": "execute_result"
    }
   ],
   "source": [
    "effects = {'effect estimate': [A, B, C, D, AB, AC, AD, BC, BD, CD, ABC, ABD, ACD, BCD, ABCD]}\n",
    "factorial_effect = pd.DataFrame(effects)\n",
    "coeff_estimate = factorial_effect/2\n",
    "coeff_estimate.rename(columns={'effect estimate':'coeff_estimate'}, inplace=True)\n",
    "# 3.9725 - grand average of all the observations\n",
    "new_row = pd.DataFrame({'coeff_estimate': [3.9725]})\n",
    "coeff_estimate = pd.concat([new_row, coeff_estimate], ignore_index=True)\n",
    "coeff_estimate"
   ]
  },
  {
   "cell_type": "markdown",
   "id": "46802729-d5ae-4293-97d5-a394642a240a",
   "metadata": {
    "editable": true,
    "jp-MarkdownHeadingCollapsed": true,
    "slideshow": {
     "slide_type": ""
    },
    "tags": []
   },
   "source": [
    "### 3.3. Standard Error of Coefficient:"
   ]
  },
  {
   "cell_type": "code",
   "execution_count": 491,
   "id": "8cf3705e-31c5-408b-b121-7f2c0c11f2a1",
   "metadata": {},
   "outputs": [],
   "source": [
    "# Given coefficient estimates\n",
    "#coeff_estimates = np.array([385.333333/2, 458.000000/2, 708.666667/2, 76.000000/2, 295.333333/2,\n",
    "#                            160.666667/2, 222.666667/2, 786.666667/2, 175.333333/2, -218.000000/2,\n",
    "#                            297.333333/2, -96.666667/2, 26.000000/2, 156.000000/2, -93.333333/2])\n",
    "coeff_estimates = np.array(coeff_estimate.values)\n",
    "n = len(coeff_estimates)\n",
    "result_mean = np.mean(result)\n",
    "sigma_hat_squared_i = np.array(np.sum((coeff_estimates - x_mean) ** 2) / (n - 1))\n",
    "sigma_hat_squared = np.sum(sigma_hat_squared_i/(2**k))\n",
    "se_Effect = np.sqrt(sigma_hat_squared/(n*2**(k-2)))"
   ]
  },
  {
   "cell_type": "code",
   "execution_count": 492,
   "id": "93cab1fd-ddbb-4b26-8bed-0c0404f11046",
   "metadata": {},
   "outputs": [
    {
     "name": "stdout",
     "output_type": "stream",
     "text": [
      "se_effect: 0.13248623442836 constant: 3.9725 se_coeff: 0.06624311721418\n"
     ]
    }
   ],
   "source": [
    "print('se_effect:',se_Effect, 'constant:',result_mean, 'se_coeff:',se_Effect/2)"
   ]
  },
  {
   "cell_type": "markdown",
   "id": "ea4d9aeb-f98a-4350-a83d-1cb8070a0b29",
   "metadata": {
    "jp-MarkdownHeadingCollapsed": true
   },
   "source": [
    "### 3.4. t-ratios"
   ]
  },
  {
   "cell_type": "code",
   "execution_count": 493,
   "id": "3c38c9c5-781c-4221-9396-1735a0ce0a97",
   "metadata": {},
   "outputs": [],
   "source": [
    "t_ratios = factorial_effect/se_Effect\n",
    "t_ratios.rename(columns={'effect estimate':'t-ratios'}, inplace=True)"
   ]
  },
  {
   "cell_type": "code",
   "execution_count": 494,
   "id": "14cd31a5-16f4-4935-a7e9-1ce411b32c42",
   "metadata": {},
   "outputs": [],
   "source": [
    "new_row = pd.DataFrame({'t-ratios': [2*3.9725/se_Effect]})\n",
    "t_ratios = pd.concat([new_row, t_ratios], ignore_index=True)"
   ]
  },
  {
   "cell_type": "code",
   "execution_count": 495,
   "id": "ac3a6c1a-a4b9-4eeb-8488-f85bc4bffb3c",
   "metadata": {},
   "outputs": [
    {
     "name": "stdout",
     "output_type": "stream",
     "text": [
      "DataFrame with P values and significance:\n",
      "    t-ratios\n",
      "0       True\n",
      "1       True\n",
      "2      False\n",
      "3       True\n",
      "4      False\n",
      "5       True\n",
      "6      False\n",
      "7       True\n",
      "8       True\n",
      "9       True\n",
      "10      True\n",
      "11     False\n",
      "12      True\n",
      "13      True\n",
      "14     False\n",
      "15      True\n"
     ]
    }
   ],
   "source": [
    "alpha = 0.025\n",
    "# degrees of freedom = 2^4.3 = 48\n",
    "def P(t_ratios):\n",
    "    t = st.t(df=47)\n",
    "    return 2 * (1 - t.cdf(abs(t_ratios)))\n",
    "\n",
    "# Apply the P function to each row in the DataFrame\n",
    "P_value = t_ratios.apply(P)\n",
    "\n",
    "# Check significance for each t-ratio\n",
    "Significance = P_value < alpha\n",
    "\n",
    "# Print the results\n",
    "print('DataFrame with P values and significance:')\n",
    "print(Significance)"
   ]
  },
  {
   "cell_type": "markdown",
   "id": "6ff71455-9cab-495f-8881-38ea5c21016a",
   "metadata": {},
   "source": [
    "hence we can conclude that effect of D, AC, ABC and BCD are not significant and can reduce our regression model coefficients. "
   ]
  },
  {
   "cell_type": "markdown",
   "id": "14077e7c-09bb-4c0a-ab94-2b26e0f137a8",
   "metadata": {
    "jp-MarkdownHeadingCollapsed": true
   },
   "source": [
    "### 3.5. Linear Regression Model:"
   ]
  },
  {
   "cell_type": "markdown",
   "id": "752e6b0c-e34b-40c8-9f56-21c726e3f4b6",
   "metadata": {},
   "source": [
    "model(result_mean, x1, x2, x3, x4) = result_mean + (A/2)*x1 + (B/2)*x2 + (C/2)*x3 + (AB/2)*x1*x2 + (AD/2)*x1*x4 + (BC/2)*x2*x3 + (BD/2)*x2*x4 + (CD/2)*x3*x4 + (ABD/2)*x1*x3*x4 + (ACD/2)*x1*x3*x4 + (ABCD/2)*x1*x2*x3*x4"
   ]
  },
  {
   "cell_type": "markdown",
   "id": "fdb5acdb-da9e-45cf-9b2c-9e43896e58e5",
   "metadata": {
    "jp-MarkdownHeadingCollapsed": true
   },
   "source": [
    "#### a. From Scikit-Learn Library"
   ]
  },
  {
   "cell_type": "code",
   "execution_count": 249,
   "id": "f93e82bf-c1c4-42d6-9c9a-95ed1bdfe84f",
   "metadata": {},
   "outputs": [],
   "source": [
    "from sklearn.model_selection import train_test_split\n",
    "from sklearn.linear_model import LinearRegression\n",
    "from sklearn import metrics"
   ]
  },
  {
   "cell_type": "code",
   "execution_count": null,
   "id": "d6481177-b201-48b5-b9c1-e359975ccd6a",
   "metadata": {},
   "outputs": [],
   "source": [
    "# factor_levels = {\n",
    "#     'x1': [0.05, 0.1],\n",
    "#     'x2': [220, 240],\n",
    "#     'x3': [60, 80],\n",
    "#     'x4': [50, 100]\n",
    "# }\n",
    "\n",
    "# # Generate all possible combinations of factor levels (full factorial design)\n",
    "# combinations = list(itertools.product(*factor_levels.values()))\n",
    "\n",
    "# # Create a DataFrame with the experimental design matrix\n",
    "# X = pd.DataFrame(combinations, columns=factor_levels.keys())"
   ]
  },
  {
   "cell_type": "code",
   "execution_count": 364,
   "id": "02421b2f-e2b2-466b-a86e-c8c1b9cea853",
   "metadata": {},
   "outputs": [
    {
     "name": "stdout",
     "output_type": "stream",
     "text": [
      "Coefficients: [[-8.36438923e-01 -9.27587992e-03 -1.90543478e-02 -7.10351967e-04]]\n",
      "Intercept: [4.94880952]\n",
      "Mean Absolute Error: 0.42199171842650146\n",
      "Mean Squared Error: 0.24698992567159225\n",
      "R-squared: -0.23742447731258665\n"
     ]
    }
   ],
   "source": [
    "# Split the data into training and testing sets\n",
    "X_train, X_test, y_train, y_test = train_test_split(df.iloc[:,[0,1,2,3]], df.iloc[:,[6]], test_size=0.2, random_state=42)\n",
    "\n",
    "# Creating a linear regression model\n",
    "model = LinearRegression()\n",
    "\n",
    "# Fitting the model to the training data\n",
    "model.fit(X_train, y_train)\n",
    "\n",
    "# Making predictions on the test set\n",
    "y_pred = model.predict(X_test)\n",
    "\n",
    "# Printing coefficients and intercept\n",
    "print(\"Coefficients:\", model.coef_)\n",
    "print(\"Intercept:\", model.intercept_)\n",
    "\n",
    "# Evaluate the model\n",
    "print(\"Mean Absolute Error:\", metrics.mean_absolute_error(y_test, y_pred))\n",
    "print(\"Mean Squared Error:\", metrics.mean_squared_error(y_test, y_pred))\n",
    "print(\"R-squared:\", metrics.r2_score(y_test, y_pred))"
   ]
  },
  {
   "cell_type": "code",
   "execution_count": 365,
   "id": "2e528205-872f-462c-888d-24e1cf140051",
   "metadata": {},
   "outputs": [
    {
     "data": {
      "image/png": "[encoded data removed]",
      "text/plain": [
       "<Figure size 640x480 with 1 Axes>"
      ]
     },
     "metadata": {},
     "output_type": "display_data"
    }
   ],
   "source": [
    "# Visualize the predictions vs actual values\n",
    "# Scatter plot\n",
    "plt.scatter(y_test, y_pred, label='Actual vs Prediction', color='blue', alpha=0.7)\n",
    "\n",
    "# Diagonal line for reference\n",
    "plt.plot([min(y_test.values), max(y_test.values)], [min(y_test.values), max(y_test.values)], linestyle='--', color='red', linewidth=2, label='Perfect Prediction')\n",
    "\n",
    "# Add legends\n",
    "plt.legend()\n",
    "\n",
    "# Labels and title\n",
    "plt.xlabel('Actual Elongation')\n",
    "plt.ylabel('Predicted Elongation')\n",
    "plt.title('Actual vs Predicted Elongation')\n",
    "\n",
    "# Show the plot\n",
    "plt.show()"
   ]
  },
  {
   "cell_type": "markdown",
   "id": "59ee3128-d76f-48d8-8cc7-740256b9a7ab",
   "metadata": {},
   "source": [
    "#### b. From the model that we've found out via statistical analysis"
   ]
  },
  {
   "cell_type": "code",
   "execution_count": 496,
   "id": "a08af696-1649-4b3b-8893-4141f6a24774",
   "metadata": {},
   "outputs": [
    {
     "name": "stdout",
     "output_type": "stream",
     "text": [
      "<class 'pandas.core.frame.DataFrame'>\n",
      "RangeIndex: 16 entries, 0 to 15\n",
      "Data columns (total 1 columns):\n",
      " #   Column          Non-Null Count  Dtype  \n",
      "---  ------          --------------  -----  \n",
      " 0   coeff_estimate  16 non-null     float64\n",
      "dtypes: float64(1)\n",
      "memory usage: 260.0 bytes\n"
     ]
    }
   ],
   "source": [
    "coeff_estimate.info()"
   ]
  },
  {
   "cell_type": "code",
   "execution_count": 497,
   "id": "98d28507-9a1d-4213-982d-92680cdd8809",
   "metadata": {},
   "outputs": [],
   "source": [
    "# Extract coefficients from the DataFrame\n",
    "constant = coeff_estimate.loc[0, 'coeff_estimate']\n",
    "A = coeff_estimate.loc[1, 'coeff_estimate']\n",
    "B = coeff_estimate.loc[2, 'coeff_estimate']\n",
    "C = coeff_estimate.loc[3, 'coeff_estimate']\n",
    "D = coeff_estimate.loc[4, 'coeff_estimate']\n",
    "AB = coeff_estimate.loc[5, 'coeff_estimate']\n",
    "AC = coeff_estimate.loc[6, 'coeff_estimate']\n",
    "AD = coeff_estimate.loc[7, 'coeff_estimate']\n",
    "BC = coeff_estimate.loc[8, 'coeff_estimate']\n",
    "BD = coeff_estimate.loc[9, 'coeff_estimate']\n",
    "CD = coeff_estimate.loc[10, 'coeff_estimate']\n",
    "ABC = coeff_estimate.loc[11, 'coeff_estimate']\n",
    "ABD = coeff_estimate.loc[12, 'coeff_estimate']\n",
    "ACD = coeff_estimate.loc[13, 'coeff_estimate']\n",
    "BCD = coeff_estimate.loc[14, 'coeff_estimate']\n",
    "ABCD = coeff_estimate.loc[15, 'coeff_estimate']"
   ]
  },
  {
   "cell_type": "code",
   "execution_count": 498,
   "id": "907bcd7b-71c9-4f81-9eba-a83ce53b398d",
   "metadata": {},
   "outputs": [],
   "source": [
    "X = df.iloc[:,[0,1,2,3]]"
   ]
  },
  {
   "cell_type": "code",
   "execution_count": 499,
   "id": "f1c4e247-de92-4594-8818-337ec0ecf175",
   "metadata": {},
   "outputs": [
    {
     "name": "stdout",
     "output_type": "stream",
     "text": [
      "<class 'pandas.core.frame.DataFrame'>\n",
      "RangeIndex: 48 entries, 0 to 47\n",
      "Data columns (total 4 columns):\n",
      " #   Column  Non-Null Count  Dtype  \n",
      "---  ------  --------------  -----  \n",
      " 0   x1      48 non-null     float64\n",
      " 1   x2      48 non-null     int64  \n",
      " 2   x3      48 non-null     int64  \n",
      " 3   x4      48 non-null     int64  \n",
      "dtypes: float64(1), int64(3)\n",
      "memory usage: 1.6 KB\n"
     ]
    }
   ],
   "source": [
    "X.rename(columns={'layer_height (A)':'x1', 'nozzle temperature (B) ':'x2','bed_temperature (C) ':'x3', 'fan_speed (D)':'x4'}, inplace = True)\n",
    "X.info()"
   ]
  },
  {
   "cell_type": "code",
   "execution_count": 500,
   "id": "2816f033-5443-455a-85f7-dcf6124e4f9e",
   "metadata": {},
   "outputs": [
    {
     "name": "stdout",
     "output_type": "stream",
     "text": [
      "<class 'pandas.core.frame.DataFrame'>\n",
      "RangeIndex: 48 entries, 0 to 47\n",
      "Data columns (total 1 columns):\n",
      " #   Column      Non-Null Count  Dtype  \n",
      "---  ------      --------------  -----  \n",
      " 0   elongation  48 non-null     float64\n",
      "dtypes: float64(1)\n",
      "memory usage: 516.0 bytes\n"
     ]
    }
   ],
   "source": [
    "Y = df.iloc[:,[6]]\n",
    "Y.info()"
   ]
  },
  {
   "cell_type": "code",
   "execution_count": 588,
   "id": "9fde69e8-9c8f-46d8-888b-b8b7017d2e23",
   "metadata": {},
   "outputs": [],
   "source": [
    "# Split the data into training and testing sets\n",
    "X_train, X_test, y_train, y_test = train_test_split(X, Y, test_size=0.2, random_state=100)\n",
    "\n",
    "# Calculate predicted values for testing set\n",
    "y_test_pred = (\n",
    "    (constant +\n",
    "    A * X_test['x1'] +\n",
    "    #B * X_test['x2'] +\n",
    "    C * X_test['x3'] +\n",
    "    #D * X_test['x4'] + \n",
    "    AB * X_test['x1'] * X_test['x2'] +\n",
    "    #AC * X_test['x1'] * X_test['x3'] + \n",
    "    AD * X_test['x1'] * X_test['x4'] +\n",
    "    BC * X_test['x2'] * X_test['x3'] +\n",
    "    BD * X_test['x2'] * X_test['x4'] +\n",
    "    CD * X_test['x3'] * X_test['x4'] +\n",
    "    #ABC * X_test['x1'] * X_test['x2'] * X_test['x3'] + \n",
    "    ABD * X_test['x1'] * X_test['x2'] * X_test['x4'] +\n",
    "    ACD * X_test['x1'] * X_test['x3'] * X_test['x4'] +\n",
    "    #BCD * X_test['x2'] * X_test['x3'] * X_test['x4'] + \n",
    "    ABCD * X_test['x1'] * X_test['x2'] * X_test['x3'] * X_test['x4'])/100000\n",
    ")"
   ]
  },
  {
   "cell_type": "markdown",
   "id": "dcc86f51-3ccf-4923-ac17-88019c7cd185",
   "metadata": {
    "jp-MarkdownHeadingCollapsed": true
   },
   "source": [
    "### 3.6. Analysis Of Variance:"
   ]
  },
  {
   "cell_type": "code",
   "execution_count": 581,
   "id": "1a461e08-192e-40bb-8eec-c8bd93f1d549",
   "metadata": {},
   "outputs": [
    {
     "name": "stdout",
     "output_type": "stream",
     "text": [
      "Eror Sum of Squares (SS_E): 9.256674793119888\n"
     ]
    }
   ],
   "source": [
    "# Error sum of squares (SS_T)\n",
    "residual = y_test['elongation'] - y_test_pred\n",
    "residual\n",
    "SS_E = np.sum((residual)**2)\n",
    "print(\"Eror Sum of Squares (SS_E):\", SS_E)\n",
    "# dof = n - p; n = total observations = 48 - 11\n",
    "print(\"Mean Square:\", SS_E/37)"
   ]
  },
  {
   "cell_type": "code",
   "execution_count": 585,
   "id": "acc61f0c-99b3-45c7-99be-a094eb50fcb8",
   "metadata": {},
   "outputs": [
    {
     "name": "stdout",
     "output_type": "stream",
     "text": [
      "Sum of Squares Regression(SS_R): 6.425829712693226\n",
      "Mean Square: 0.6425829712693225\n"
     ]
    }
   ],
   "source": [
    "# Regression sum of squares (SS_R)\n",
    "SS_R = np.sum((y_test_pred - np.mean(y_test))**2)\n",
    "print(\"Sum of Squares Regression(SS_R):\", SS_R)\n",
    "# dof = parameters - 1 = 11 - 1\n",
    "print(\"Mean Square:\", SS_R/10)"
   ]
  },
  {
   "cell_type": "code",
   "execution_count": 586,
   "id": "bd49f6c0-c3b2-429b-ae78-19fd3325c865",
   "metadata": {},
   "outputs": [
    {
     "name": "stdout",
     "output_type": "stream",
     "text": [
      "Sum of Squares Error(SS_T): 15.682504505813114\n",
      "Mean Square: 0.33367030863432157\n"
     ]
    }
   ],
   "source": [
    "# Total sum of squares (SS_E)\n",
    "SS_T = SS_E + SS_R\n",
    "print(\"Sum of Squares Error(SS_T):\", SS_T)\n",
    "# dof = n - 1 = 48 - 1 = 47\n",
    "print(\"Mean Square:\", SS_T/47)"
   ]
  },
  {
   "cell_type": "code",
   "execution_count": 587,
   "id": "9355fcf8-fd1a-4ba2-bffa-91a75e0aeccc",
   "metadata": {},
   "outputs": [
    {
     "name": "stdout",
     "output_type": "stream",
     "text": [
      "0.40974512140655406\n"
     ]
    }
   ],
   "source": [
    "r2 = SS_R/SS_T\n",
    "print(r2)"
   ]
  },
  {
   "cell_type": "markdown",
   "id": "6d25c803-dcdc-46ee-b1b9-6bb80b66e21e",
   "metadata": {},
   "source": [
    "Since SS_E (Sum of Squares Error) is larger than SS_R (Sum of Squares Model), it suggests that the model is not effectively explaining the variability in the dependent variable. In other words, a larger proportion of the total variability in the dependent variable is unaccounted for by your regression model.\n",
    "\n",
    "In a well-fitted model, SSm is expected to be larger than SS_E, indicating that the model is capturing a significant portion of the total variability in the dependent variable. However, if SS_E is larger than SS_R, it may suggest that the model is not providing a good fit to the data, and there is substantial unexplained variability.\n",
    "\n",
    "Possible reasons for this situation include:\n",
    "\n",
    "- Model inadequacy: The chosen model may not be appropriate for the data, and there might be missing predictors or nonlinear relationships that the model cannot capture.\n",
    "\n",
    "- Outliers or influential data points: Extreme values in the data may be having a large impact on the residuals, affecting the overall fit of the model.\n",
    "\n",
    "- Violations of assumptions: The assumptions of linear regression, such as linearity, independence, and homoscedasticity, may be violated.\n",
    "\n",
    "- Overfitting: The model might be too complex for the given dataset, leading to overfitting and poor generalization to new data.\n",
    "\n",
    "In our case, it is definitely overfitting."
   ]
  },
  {
   "cell_type": "code",
   "execution_count": null,
   "id": "1092a919-ed3a-4bc5-8fbb-11c28f613071",
   "metadata": {},
   "outputs": [],
   "source": []
  }
 ],
 "metadata": {
  "colab": {
   "collapsed_sections": [
    "5iFC3dv7HNDj"
   ],
   "provenance": []
  },
  "kernelspec": {
   "display_name": "Python 3 (ipykernel)",
   "language": "python",
   "name": "python3"
  },
  "language_info": {
   "codemirror_mode": {
    "name": "ipython",
    "version": 3
   },
   "file_extension": ".py",
   "mimetype": "text/x-python",
   "name": "python",
   "nbconvert_exporter": "python",
   "pygments_lexer": "ipython3",
   "version": "3.11.5"
  }
 },
 "nbformat": 4,
 "nbformat_minor": 5
}
