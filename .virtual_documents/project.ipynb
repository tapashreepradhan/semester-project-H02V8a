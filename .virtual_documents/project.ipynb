


# importing dataset from the github repo
%%bash
git clone https://github.com/tapashreepradhan/semester-project-H02V8a.git


# importing libraries
import numpy as np
import pandas as pd
from matplotlib import pyplot as plt
from scipy import stats as st
import seaborn as sns





df = pd.read_csv("./semester-project-H02V8a/3d-printer-dataset-two-level.csv")


df.info()


# independent variables
x_df = df.iloc[:, [0, 1, 2, 3]]
x_df.info()


# dependent variables
y_df = df.iloc[:, [4, 5, 6]]
y_df.info()





# Roughness Distribution

sns.histplot(y_df['roughness'], kde=True)
plt.title(f'Distribution of Roughness (Micrometers)')
plt.show()

from scipy.stats import shapiro

# Perform the Shapiro-Wilk test
stat, p_value = shapiro(y_df['roughness'])

# Check the p-value
alpha = 0.05
if p_value > alpha:
    print(f'The data for Roughness appears to be normally distributed (p-value={p_value:.4f})')
else:
    print(f'The data for Roughness does not appear to be normally distributed (p-value={p_value:.4f})')


%%bash
cd semester-project-H02V8a/
mkdir distribution-plots
cd distribution-plots


# Tensile Strength Distribution

sns.histplot(y_df['tension_strength'], kde=True)
plt.title(f'Distribution of Tensile Strength (MPa)')
plt.show()

plt.savefig('./semester-project-H02V8a/distribution-plots/tensile-distribution.png')

from scipy.stats import shapiro

# Perform the Shapiro-Wilk test
stat, p_value = shapiro(y_df['tension_strength'])

# Check the p-value
alpha = 0.05
if p_value > alpha:
    print(f'The data for Tensile Strength appears to be normally distributed (p-value={p_value:.4f})')
else:
    print(f'The data for Tensile Strength does not appear to be normally distributed (p-value={p_value:.4f})')



# Elongation Distribution

sns.histplot(y_df['elongation'], kde=True)
plt.title(f'Elongation(%)')
plt.show()
plt.savefig('./semester-project-H02V8a/distribution-plots/elongation.png')
from scipy.stats import shapiro

# Perform the Shapiro-Wilk test
stat, p_value = shapiro(y_df['elongation'])

# Check the p-value
alpha = 0.05
if p_value > alpha:
    print(f'The data for Elongation appears to be normally distributed (p-value={p_value:.4f})')
else:
    print(f'The data for Elongation does not appear to be normally distributed (p-value={p_value:.4f})')






